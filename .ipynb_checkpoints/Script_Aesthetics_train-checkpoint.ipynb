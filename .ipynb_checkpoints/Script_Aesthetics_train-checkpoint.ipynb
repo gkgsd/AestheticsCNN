{
 "cells": [
  {
   "cell_type": "code",
   "execution_count": 1,
   "metadata": {
    "collapsed": false
   },
   "outputs": [
    {
     "name": "stderr",
     "output_type": "stream",
     "text": [
      "Using Theano backend.\n",
      "WARNING (theano.sandbox.cuda): The cuda backend is deprecated and will be removed in the next release (v0.10).  Please switch to the gpuarray backend. You can get more information about how to switch at this URL:\n",
      " https://github.com/Theano/Theano/wiki/Converting-to-the-new-gpu-back-end%28gpuarray%29\n",
      "\n",
      "Using gpu device 0: TITAN X (Pascal) (CNMeM is disabled, cuDNN 5110)\n"
     ]
    },
    {
     "name": "stdout",
     "output_type": "stream",
     "text": [
      "th theano\n"
     ]
    }
   ],
   "source": [
    "from __future__ import division\n",
    "import sys\n",
    "sys.path.insert(0, '../../MyPackages/')\n",
    "sys.path.insert(0, '../../MyPackages/Inception-v4/')\n",
    "\n",
    "%matplotlib inline\n",
    "import matplotlib\n",
    "import matplotlib.pyplot as plt\n",
    "import numpy as np\n",
    "import cv2, os, random, time\n",
    "from tqdm import tqdm\n",
    "\n",
    "## set global parameters: backend and image_dim_ordering for keras, and the gpu configuration\n",
    "import os\n",
    "os.environ['KERAS_BACKEND'] = 'theano' # or 'tensorflow'\n",
    "os.environ['CUDA_VISIBLE_DEVICES'] = '0'\n",
    "\n",
    "from keras import backend as K\n",
    "import tensorflow as tf\n",
    "\n",
    "K.set_image_dim_ordering('th')\n",
    "## for tensorflow sesstion\n",
    "# config = tf.ConfigProto()\n",
    "# config.gpu_options.allow_growth=True\n",
    "# config.allow_soft_placement = True\n",
    "# config.log_device_placement = True\n",
    "# sess = tf.Session(config=config)\n",
    "# K.set_session(sess)\n",
    "\n",
    "print K.image_dim_ordering(), K.backend()\n",
    "\n",
    "## import keras layers\n",
    "from keras.applications.resnet50 import ResNet50\n",
    "from keras.preprocessing import image\n",
    "from keras.models import Model\n",
    "from keras.layers import Dense, Flatten, Input\n",
    "from keras.utils.visualize_util import plot\n",
    "from keras.datasets import mnist\n",
    "from keras.optimizers import Adam\n",
    "from keras.utils import np_utils\n",
    "from keras.callbacks import ModelCheckpoint\n",
    "\n",
    "from inception_v4 import create_inception_v4\n",
    "from Package_dataset import Load_AVAdataset\n",
    "from Package_network import loop_batch"
   ]
  },
  {
   "cell_type": "code",
   "execution_count": 2,
   "metadata": {
    "collapsed": false
   },
   "outputs": [
    {
     "name": "stdout",
     "output_type": "stream",
     "text": [
      "(249529, 3, 224, 224) (249529,) (249529,)\n",
      "(3000, 3, 224, 224) (3000,)\n",
      "(3000, 3, 224, 224) (3000,)\n"
     ]
    }
   ],
   "source": [
    "## load the AVA dataset, hdf5 format\n",
    "h5f_AVA = Load_AVAdataset(target_size=(224,224))\n",
    "images_train = h5f_AVA['images_train']\n",
    "scores_train = h5f_AVA['scores_train']\n",
    "scores_train = scores_train[:,0]\n",
    "sample_weights = h5f_AVA['sample_weights_train'][:]\n",
    "\n",
    "images_test_even = h5f_AVA['images_test_even']\n",
    "scores_test_even = h5f_AVA['scores_test_even']\n",
    "scores_test_even = scores_test_even[:,0]\n",
    "images_test_uneven = h5f_AVA['images_test_uneven']\n",
    "scores_test_uneven = h5f_AVA['scores_test_uneven']\n",
    "scores_test_uneven = scores_test_uneven[:,0]\n",
    "\n",
    "print images_train.shape, scores_train.shape, sample_weights.shape\n",
    "print images_test_even.shape, scores_test_even.shape\n",
    "print images_test_uneven.shape, scores_test_uneven.shape\n"
   ]
  },
  {
   "cell_type": "code",
   "execution_count": 3,
   "metadata": {
    "collapsed": true
   },
   "outputs": [],
   "source": [
    "def preprocess_input(x, dim_ordering='default'):\n",
    "    \"\"\"Preprocesses a tensor encoding a batch of images.\n",
    "    # Arguments\n",
    "        x: input Numpy tensor, 4D.\n",
    "        dim_ordering: data format of the image tensor.\n",
    "    # Returns\n",
    "        Preprocessed tensor.\n",
    "    \"\"\"\n",
    "    if dim_ordering == 'default':\n",
    "        dim_ordering = K.image_dim_ordering()\n",
    "    assert dim_ordering in {'tf', 'th'}\n",
    "\n",
    "#     x = np.transpose(x,(0,2,3,1))\n",
    "    x = x.astype(np.float32,copy=False)\n",
    "    if dim_ordering == 'th':\n",
    "        # 'RGB'->'BGR'\n",
    "#         x = x[:, ::-1, :, :]\n",
    "        # Zero-center by mean pixel\n",
    "        x[:, 0, :, :] -= 103.939 # blue\n",
    "        x[:, 1, :, :] -= 116.779 # green\n",
    "        x[:, 2, :, :] -= 123.68  # red\n",
    "    else:\n",
    "        # 'RGB'->'BGR'\n",
    "#         x = x[:, :, :, ::-1]\n",
    "        # Zero-center by mean pixel\n",
    "        x[:, :, :, 0] -= 103.939 # blue\n",
    "        x[:, :, :, 1] -= 116.779 # green\n",
    "        x[:, :, :, 2] -= 123.68  # red\n",
    "    return x"
   ]
  },
  {
   "cell_type": "code",
   "execution_count": 9,
   "metadata": {
    "collapsed": false
   },
   "outputs": [],
   "source": [
    "## load the network\n",
    "input_tensor = Input(shape=(3, 224, 224))\n",
    "base_model = ResNet50(input_tensor=input_tensor, include_top=False, weights='imagenet')\n",
    "x = base_model.output\n",
    "x = Flatten()(x)\n",
    "x = Dense(1,init='glorot_uniform')(x)\n",
    "\n",
    "# this is the model we will train\n",
    "model = Model(input=input_tensor, output=x)\n",
    "myadam = Adam(lr=0.001)"
   ]
  },
  {
   "cell_type": "code",
   "execution_count": null,
   "metadata": {
    "collapsed": true
   },
   "outputs": [],
   "source": [
    "# first finetune the top layer\n",
    "print >>ff, 'finetune the top layer'\n",
    "for l in model.layers[:-1]:\n",
    "    l.trainable = False\n",
    "model.compile(optimizer=myadam, loss='mse')\n",
    "\n",
    "checkpointer = ModelCheckpoint(filepath=\"/data/bjin/MyAesthetics/model_weights/AVA_Resnet50_score.hdf5\", \n",
    "                                verbose=0, save_best_only=True, save_weights_only=False, mode='auto', period=2)\n",
    "mytensorboard = TensorBoard(log_dir='/data/bjin/MyAesthetics/logs/Resnet', histogram_freq=2, write_graph=True)\n",
    "\n",
    "history = model.fit_generator(loop_batch(images_train,scores_train,sample_weights,batch_size=64,pre_f=preprocess_input),\n",
    "        samples_per_epoch=len(scores_train), nb_epoch=10, callbacks=[checkpointer, mytensorboard], verbose=1,\n",
    "        validation_data=loop_batch(images_test_even,scores_test_even,batch_size=64,pre_f=preprocess_input),\n",
    "        nb_val_samples=len(scores_test_even), max_q_size=5, nb_worker=1, pickle_safe=False, initial_epoch=0)\n",
    "\n",
    "rint >>ff, history.history\n",
    "\n",
    "# then finetune all the layers\n",
    "print >>ff, 'finetune all the layers'\n",
    "for l in model.layers[:-1]:\n",
    "    l.trainable = True\n",
    "model.compile(optimizer=myadam, loss='mse')\n",
    "\n",
    "checkpointer = ModelCheckpoint(filepath=\"/data/bjin/MyAesthetics/model_weights/AVA_Resnet50_score.hdf5\", \n",
    "                                verbose=0, save_best_only=True, save_weights_only=False, mode='auto', period=2)\n",
    "mytensorboard = TensorBoard(log_dir='/data/bjin/MyAesthetics/logs/Resnet', histogram_freq=2, write_graph=True)\n",
    "\n",
    "history = model.fit_generator(loop_batch(images_train,scores_train,sample_weights,batch_size=64,pre_f=preprocess_input),\n",
    "        samples_per_epoch=len(scores_train), nb_epoch=10, callbacks=[checkpointer, mytensorboard], verbose=1,\n",
    "        validation_data=loop_batch(images_test_even,scores_test_even,batch_size=64,pre_f=preprocess_input),\n",
    "        nb_val_samples=len(scores_test_even), max_q_size=5, nb_worker=1, pickle_safe=False, initial_epoch=0)\n",
    "\n",
    "print >>ff, history.history\n"
   ]
  },
  {
   "cell_type": "code",
   "execution_count": null,
   "metadata": {
    "collapsed": false
   },
   "outputs": [],
   "source": [
    "# with K.tf.device('/gpu:0'):\n",
    "checkpointer = ModelCheckpoint(filepath=\"/data/bjin/MyAesthetics/model_weights/AVA_Resnet50_score.hdf5\", \n",
    "                                verbose=0, save_best_only=True, save_weights_only=False, mode='auto', period=2)\n",
    "# mytensorboard = TensorBoard(log_dir='/data/bjin/MyAesthetics/logs/Resnet', histogram_freq=5, write_graph=True)\n",
    "# history = model.fit(x=images_train,y=scores_train,batch_size=64, nb_epoch=10, verbose=1,callbacks=[checkpointer],\n",
    "#         validation_data=(images_test_even,scores_test_even),shuffle=False,sample_weight=sample_weights)\n",
    "\n",
    "history = model.fit_generator(loop_batch(images_train,scores_train,sample_weights,batch_size=64,pre_f=preprocess_input),\n",
    "        samples_per_epoch=len(scores_train), nb_epoch=4, callbacks=[checkpointer], verbose=1,\n",
    "        validation_data=loop_batch(images_test_even,scores_test_even,batch_size=64,pre_f=preprocess_input),\n",
    "        nb_val_samples=len(scores_test_even), max_q_size=5, nb_worker=1, pickle_safe=False, initial_epoch=0)\n"
   ]
  },
  {
   "cell_type": "code",
   "execution_count": null,
   "metadata": {
    "collapsed": false,
    "scrolled": true
   },
   "outputs": [],
   "source": [
    "with K.tf.device('/gpu:1'):\n",
    "#     with K.tf.Session(config=config):\n",
    "#     K.set_session(K.tf.Session(config=config))\n",
    "    model = Sequential()\n",
    "    model.add(Dense(512, input_shape=(784,)))\n",
    "    model.add(Activation('relu'))\n",
    "    model.add(Dropout(0.2))\n",
    "    model.add(Dense(512))\n",
    "    model.add(Activation('relu'))\n",
    "    model.add(Dropout(0.2))\n",
    "    model.add(Dense(10))\n",
    "    model.add(Activation('softmax'))\n",
    "    model.compile(loss='categorical_crossentropy',\n",
    "          optimizer=RMSprop(),\n",
    "          metrics=['accuracy'])\n",
    "    history = model.fit(X_train, Y_train,\n",
    "                        batch_size=batch_size, nb_epoch=4,\n",
    "                        verbose=1, validation_data=(X_test, Y_test))\n",
    "    score = model.evaluate(X_test, Y_test, verbose=0)\n",
    "\n",
    "with K.tf.device('/cpu:0'):\n",
    "    score = score + [1,1]\n",
    "    print('Test score:', score[0])\n",
    "    print('Test accuracy:', score[1])"
   ]
  },
  {
   "cell_type": "code",
   "execution_count": null,
   "metadata": {
    "collapsed": true
   },
   "outputs": [],
   "source": []
  },
  {
   "cell_type": "code",
   "execution_count": null,
   "metadata": {
    "collapsed": false
   },
   "outputs": [],
   "source": [
    "plot(model_inceptionv4, to_file='model.png')"
   ]
  },
  {
   "cell_type": "code",
   "execution_count": null,
   "metadata": {
    "collapsed": true
   },
   "outputs": [],
   "source": []
  }
 ],
 "metadata": {
  "kernelspec": {
   "display_name": "Python 2",
   "language": "python",
   "name": "python2"
  },
  "language_info": {
   "codemirror_mode": {
    "name": "ipython",
    "version": 2
   },
   "file_extension": ".py",
   "mimetype": "text/x-python",
   "name": "python",
   "nbconvert_exporter": "python",
   "pygments_lexer": "ipython2",
   "version": "2.7.12"
  }
 },
 "nbformat": 4,
 "nbformat_minor": 0
}
