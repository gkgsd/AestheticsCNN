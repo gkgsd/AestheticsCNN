{
 "cells": [
  {
   "cell_type": "code",
   "execution_count": 1,
   "metadata": {
    "collapsed": false
   },
   "outputs": [
    {
     "name": "stderr",
     "output_type": "stream",
     "text": [
      "Using TensorFlow backend.\n"
     ]
    },
    {
     "name": "stdout",
     "output_type": "stream",
     "text": [
      "tf tensorflow\n"
     ]
    }
   ],
   "source": [
    "## set keras backend and image_dim_ordering\n",
    "import os\n",
    "os.environ['KERAS_BACKEND'] = 'tensorflow' # or 'tensorflow'\n",
    "os.environ['CUDA_VISIBLE_DEVICES'] = '1,2' \n",
    "\n",
    "from keras import backend as K\n",
    "import tensorflow as tf\n",
    "\n",
    "K.set_image_dim_ordering('tf')\n",
    "# config = tf.ConfigProto()\n",
    "# config.gpu_options.allow_growth=True\n",
    "# sess = tf.Session(config=config)\n",
    "# K.set_session(sess)\n",
    "\n",
    "print K.image_dim_ordering(), K.backend()"
   ]
  },
  {
   "cell_type": "code",
   "execution_count": 2,
   "metadata": {
    "collapsed": false
   },
   "outputs": [],
   "source": [
    "from __future__ import division\n",
    "import sys\n",
    "sys.path.insert(0, '../MyPackages/')\n",
    "sys.path.insert(0, '../../MyPackages/Inception-v4/')\n",
    "\n",
    "%matplotlib inline\n",
    "import matplotlib\n",
    "import matplotlib.pyplot as plt\n",
    "import numpy as np\n",
    "import cv2, os, random, time\n",
    "from tqdm import tqdm\n",
    "\n",
    "from keras.applications.inception_v3 import preprocess_input, InceptionV3\n",
    "from keras.applications.inception_v4 import InceptionV4\n",
    "from keras.preprocessing import image\n",
    "from keras.models import Model\n",
    "from keras.layers import Dense, GlobalAveragePooling2D, Input\n",
    "from keras.utils.visualize_util import plot\n",
    "from inception_v4 import create_inception_v4"
   ]
  },
  {
   "cell_type": "code",
   "execution_count": null,
   "metadata": {
    "collapsed": false
   },
   "outputs": [
    {
     "name": "stdout",
     "output_type": "stream",
     "text": [
      "Model weights loaded.\n"
     ]
    }
   ],
   "source": [
    "with K.tf.device('/cpu:0'):\n",
    "    config = tf.ConfigProto()\n",
    "    config.gpu_options.allow_growth=True\n",
    "    config.allow_soft_placement = True\n",
    "    config.log_device_placement = True\n",
    "    K.set_session(K.tf.Session(config=config))\n",
    "    model_inceptionv4 = create_inception_v4(nb_classes=1001, load_weights=True)\n",
    "    input_tensor = Input(shape=(224, 224, 3))\n",
    "    model = InceptionV4(input_tensor=input_tensor,weights=None, include_top=False)\n",
    "\n",
    "    for idx in range(len(model.layers)):\n",
    "        w = model_inceptionv4.layers[idx].get_weights()\n",
    "        model.layers[idx].set_weights(w)"
   ]
  },
  {
   "cell_type": "code",
   "execution_count": null,
   "metadata": {
    "collapsed": false
   },
   "outputs": [],
   "source": [
    "with K.tf.device('/gpu:1'):\n",
    "    config = tf.ConfigProto()\n",
    "    config.gpu_options.allow_growth=True\n",
    "    config.allow_soft_placement = True\n",
    "    config.log_device_placement = True\n",
    "    K.set_session(K.tf.Session(config=config))\n",
    "\n",
    "    # define the rest of your model here...\n",
    "    model_inceptionv4.compile(loss='mse', optimizer='adam')\n",
    "    \n"
   ]
  },
  {
   "cell_type": "code",
   "execution_count": null,
   "metadata": {
    "collapsed": false
   },
   "outputs": [],
   "source": [
    "with K.tf.device('/gpu:0'):\n",
    "    config = tf.ConfigProto()\n",
    "    config.gpu_options.allow_growth=True\n",
    "    config.allow_soft_placement = True\n",
    "    config.log_device_placement = True\n",
    "    K.set_session(K.tf.Session(config=config))\n",
    "        \n",
    "   # define the rest of your model here...\n",
    "    model.compile(loss='mse', optimizer='adam')"
   ]
  },
  {
   "cell_type": "code",
   "execution_count": null,
   "metadata": {
    "collapsed": false
   },
   "outputs": [],
   "source": [
    "with tf.device('/cpu:1'):\n",
    "    input_tensor = Input(shape=(224, 224, 3))  # this assumes K.image_dim_ordering() == 'tf'\n",
    "    model = InceptionV4(input_tensor=input_tensor,weights=None, include_top=False)\n",
    "    \n",
    "    model_inceptionv4 = create_inception_v4(nb_classes=1001, load_weights=True)\n",
    "\n",
    "def loadweight():\n",
    "    with tf.device('/gpu:1'):\n",
    "        for idx in range(len(model.layers)):\n",
    "            w = model_inceptionv4.layers[idx].get_weights()\n",
    "            model.layers[idx].set_weights(w)\n",
    "\n",
    "sess.run(loadweight())\n",
    "    "
   ]
  },
  {
   "cell_type": "code",
   "execution_count": null,
   "metadata": {
    "collapsed": false
   },
   "outputs": [],
   "source": []
  },
  {
   "cell_type": "code",
   "execution_count": null,
   "metadata": {
    "collapsed": false
   },
   "outputs": [],
   "source": [
    "for idx in range(len(model.layers)):\n",
    "    w = model_inceptionv4.layers[idx].get_weights()\n",
    "    model.layers[idx].set_weights(w)\n",
    "\n",
    "model.save_weights('/home/bjin/.keras/models/inception_v4_weights_tf_dim_ordering_tf_kernels_notop.h5')"
   ]
  },
  {
   "cell_type": "code",
   "execution_count": null,
   "metadata": {
    "collapsed": false
   },
   "outputs": [],
   "source": [
    "model_inceptionv4.summary()"
   ]
  },
  {
   "cell_type": "code",
   "execution_count": null,
   "metadata": {
    "collapsed": true
   },
   "outputs": [],
   "source": []
  },
  {
   "cell_type": "code",
   "execution_count": null,
   "metadata": {
    "collapsed": false
   },
   "outputs": [],
   "source": [
    "plot(model_inceptionv4, to_file='model.png')"
   ]
  },
  {
   "cell_type": "code",
   "execution_count": null,
   "metadata": {
    "collapsed": true
   },
   "outputs": [],
   "source": []
  }
 ],
 "metadata": {
  "kernelspec": {
   "display_name": "Python 2",
   "language": "python",
   "name": "python2"
  },
  "language_info": {
   "codemirror_mode": {
    "name": "ipython",
    "version": 2
   },
   "file_extension": ".py",
   "mimetype": "text/x-python",
   "name": "python",
   "nbconvert_exporter": "python",
   "pygments_lexer": "ipython2",
   "version": "2.7.12"
  }
 },
 "nbformat": 4,
 "nbformat_minor": 0
}
