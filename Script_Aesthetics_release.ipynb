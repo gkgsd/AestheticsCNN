{
 "cells": [
  {
   "cell_type": "markdown",
   "metadata": {},
   "source": [
    "# Readme\n",
    "1. This is the code for predicting aesthetic scores or histograms using the method in the paper:\n",
    "Jin, Bin, Maria V. Ortiz Segovia, and Sabine Süsstrunk. \"Image aesthetic predictors based on weighted CNNs.\" Image Processing (ICIP), 2016 IEEE International Conference on. IEEE, 2016.\n",
    "\n",
    "2. To use the code, you need to install the following packages:\n",
    "Theano(>=0.9), Keras(>=1.0), numpy, opencv\n",
    "\n",
    "3. To run the code: please download the weights from our project webpage.\n",
    "There are two weights hdf5 files, one is for predicting the aesthetics score (1 value), the other one is for predicting the histogram (10 bins). Both of them are ~500 MB since the network architecture is VGG16.\n",
    "Modify the \"outputflag\" parameter to change between score prediction or histogram prediction. \n",
    "\n",
    "----------Created by Bin Jin. Nov. 16th, 2016."
   ]
  },
  {
   "cell_type": "markdown",
   "metadata": {},
   "source": [
    "## Load the packages"
   ]
  },
  {
   "cell_type": "code",
   "execution_count": null,
   "metadata": {
    "collapsed": false
   },
   "outputs": [],
   "source": [
    "from __future__ import division\n",
    "\n",
    "%matplotlib inline\n",
    "import matplotlib\n",
    "import matplotlib.pyplot as plt\n",
    "import numpy as np\n",
    "import cv2, os\n",
    "from keras.optimizers import SGD\n",
    "from keras.utils import np_utils, generic_utils\n",
    "from keras.models import Sequential\n",
    "from keras.layers.core import Flatten, Dense, Dropout\n",
    "from keras.layers.convolutional import Convolution2D, MaxPooling2D, ZeroPadding2D\n",
    "from keras.regularizers import l2\n"
   ]
  },
  {
   "cell_type": "markdown",
   "metadata": {},
   "source": [
    "## Define the network architecture"
   ]
  },
  {
   "cell_type": "code",
   "execution_count": null,
   "metadata": {
    "collapsed": true
   },
   "outputs": [],
   "source": [
    "def AestheticNet(outputflag='score',weight_decay=0.0005, weights_path=None):\n",
    "    model = Sequential()\n",
    "    model.add(ZeroPadding2D((1,1),input_shape=(3,224,224)))\n",
    "    model.add(Convolution2D(64, 3, 3, activation='relu',init='he_normal',W_regularizer=l2(weight_decay)))\n",
    "    model.add(ZeroPadding2D((1,1)))\n",
    "    model.add(Convolution2D(64, 3, 3, activation='relu',init='he_normal',W_regularizer=l2(weight_decay)))\n",
    "    model.add(MaxPooling2D((2,2), strides=(2,2))) # The receptive filed is 7*7 here\n",
    "\n",
    "    model.add(ZeroPadding2D((1,1)))\n",
    "    model.add(Convolution2D(128, 3, 3, activation='relu',init='he_normal',W_regularizer=l2(weight_decay)))\n",
    "    model.add(ZeroPadding2D((1,1)))\n",
    "    model.add(Convolution2D(128, 3, 3, activation='relu',init='he_normal',W_regularizer=l2(weight_decay)))\n",
    "    model.add(MaxPooling2D((2,2), strides=(2,2)))\n",
    "\n",
    "    model.add(ZeroPadding2D((1,1)))\n",
    "    model.add(Convolution2D(256, 3, 3, activation='relu',init='he_normal',W_regularizer=l2(weight_decay)))\n",
    "    model.add(ZeroPadding2D((1,1)))\n",
    "    model.add(Convolution2D(256, 3, 3, activation='relu',init='he_normal',W_regularizer=l2(weight_decay)))\n",
    "    model.add(ZeroPadding2D((1,1)))\n",
    "    model.add(Convolution2D(256, 3, 3, activation='relu',init='he_normal',W_regularizer=l2(weight_decay)))\n",
    "    model.add(MaxPooling2D((2,2), strides=(2,2)))\n",
    "\n",
    "    model.add(ZeroPadding2D((1,1)))\n",
    "    model.add(Convolution2D(512, 3, 3, activation='relu',init='he_normal',W_regularizer=l2(weight_decay)))\n",
    "    model.add(ZeroPadding2D((1,1)))\n",
    "    model.add(Convolution2D(512, 3, 3, activation='relu',init='he_normal',W_regularizer=l2(weight_decay)))\n",
    "    model.add(ZeroPadding2D((1,1)))\n",
    "    model.add(Convolution2D(512, 3, 3, activation='relu',init='he_normal',W_regularizer=l2(weight_decay)))\n",
    "    model.add(MaxPooling2D((2,2), strides=(2,2)))\n",
    "\n",
    "    model.add(ZeroPadding2D((1,1)))\n",
    "    model.add(Convolution2D(512, 3, 3, activation='relu',init='he_normal',W_regularizer=l2(weight_decay)))\n",
    "    model.add(ZeroPadding2D((1,1)))\n",
    "    model.add(Convolution2D(512, 3, 3, activation='relu',init='he_normal',W_regularizer=l2(weight_decay)))\n",
    "    model.add(ZeroPadding2D((1,1)))\n",
    "    model.add(Convolution2D(512, 3, 3, activation='relu',init='he_normal',W_regularizer=l2(weight_decay)))\n",
    "    model.add(MaxPooling2D((2,2), strides=(2,2)))\n",
    "\n",
    "    model.add(Flatten())\n",
    "    model.add(Dense(4096, activation='relu',init='he_normal',W_regularizer=l2(weight_decay)))\n",
    "\n",
    "    model.add(Dropout(0.5))\n",
    "    model.add(Dense(4096, activation='relu',init='he_normal',W_regularizer=l2(weight_decay)))\n",
    "\n",
    "    model.add(Dropout(0.5))\n",
    "    if outputflag =='score' :\n",
    "        model.add(Dense(1,init='he_normal',W_regularizer=l2(weight_decay)))\n",
    "    else:\n",
    "        model.add(Dense(10, activation='softmax',init='he_normal',W_regularizer=l2(weight_decay)))    \n",
    "\n",
    "    if weights_path:\n",
    "        model.load_weights(weights_path)\n",
    "\n",
    "    return model"
   ]
  },
  {
   "cell_type": "markdown",
   "metadata": {},
   "source": [
    "## Load the weights of the network"
   ]
  },
  {
   "cell_type": "code",
   "execution_count": null,
   "metadata": {
    "collapsed": true
   },
   "outputs": [],
   "source": [
    "outputflag = 'score' ## 'score' for predicting the aesthetic score (1 value),'hist' for predicting the histogram (10 bins)\n",
    "path_weights = './' ## modify to the path where you put the downloaded weights\n",
    "weights_file = 'AVA_AestheticNet_' + outputflag + '_ICIP.h5'\n",
    "model = AestheticNet(outputflag=outputflag,weight_decay=0.0005, weights_path=path_weights + weights_file)"
   ]
  },
  {
   "cell_type": "markdown",
   "metadata": {},
   "source": [
    "## Prediction"
   ]
  },
  {
   "cell_type": "code",
   "execution_count": null,
   "metadata": {
    "collapsed": false
   },
   "outputs": [],
   "source": [
    "path_images = './'\n",
    "filename = 'example.jpg' ## specify your own image\n",
    "\n",
    "img = cv2.imread(path_images + filename)\n",
    "imgn = np.copy(img)\n",
    "imgn = cv2.resize(imgn,(224,224))\n",
    "imgn = np.transpose(imgn,[2,0,1])\n",
    "imgn = np.expand_dims(imgn,axis=0)\n",
    "score = model.predict(imgn)\n",
    "\n",
    "img=cv2.cvtColor(img, cv2.COLOR_BGR2RGB)\n",
    "plt.imshow(img)\n",
    "plt.show()\n",
    "\n",
    "print filename + ': ', score\n"
   ]
  },
  {
   "cell_type": "code",
   "execution_count": null,
   "metadata": {
    "collapsed": false
   },
   "outputs": [],
   "source": []
  }
 ],
 "metadata": {
  "kernelspec": {
   "display_name": "Python 2",
   "language": "python",
   "name": "python2"
  },
  "language_info": {
   "codemirror_mode": {
    "name": "ipython",
    "version": 2
   },
   "file_extension": ".py",
   "mimetype": "text/x-python",
   "name": "python",
   "nbconvert_exporter": "python",
   "pygments_lexer": "ipython2",
   "version": "2.7.12"
  }
 },
 "nbformat": 4,
 "nbformat_minor": 0
}
