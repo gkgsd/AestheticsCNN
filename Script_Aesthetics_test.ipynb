{
 "cells": [
  {
   "cell_type": "markdown",
   "metadata": {},
   "source": [
    "---This is the code for predicting aesthetic scores or histograms using the method in the paper:\n",
    "---Jin, Bin, Maria V. Ortiz Segovia, and Sabine Süsstrunk. \"Image aesthetic predictors based on weighted CNNs.\" Image Processing (ICIP), 2016 IEEE International Conference on. IEEE, 2016.\n",
    "\n"
   ]
  },
  {
   "cell_type": "code",
   "execution_count": 1,
   "metadata": {
    "collapsed": false
   },
   "outputs": [
    {
     "name": "stderr",
     "output_type": "stream",
     "text": [
      "Using Theano backend.\n",
      "WARNING (theano.gof.compilelock): Overriding existing lock by dead process '25372' (I am process '39153')\n",
      "WARNING (theano.sandbox.cuda): The cuda backend is deprecated and will be removed in the next release (v0.10).  Please switch to the gpuarray backend. You can get more information about how to switch at this URL:\n",
      " https://github.com/Theano/Theano/wiki/Converting-to-the-new-gpu-back-end%28gpuarray%29\n",
      "\n",
      "Using gpu device 1: TITAN X (Pascal) (CNMeM is disabled, cuDNN 5004)\n"
     ]
    }
   ],
   "source": [
    "from __future__ import division\n",
    "import sys\n",
    "sys.path.insert(0, '../MyPackages/')\n",
    "\n",
    "%matplotlib inline\n",
    "import matplotlib\n",
    "import matplotlib.pyplot as plt\n",
    "import numpy as np\n",
    "import cv2, os, random, time\n",
    "from tqdm import tqdm\n",
    "from keras.optimizers import SGD\n",
    "from keras.utils import np_utils, generic_utils\n",
    "from keras.models import Sequential\n",
    "from keras.layers.core import Flatten, Dense, Dropout\n",
    "from keras.layers.convolutional import Convolution2D, MaxPooling2D, ZeroPadding2D\n",
    "from keras.regularizers import l2\n"
   ]
  },
  {
   "cell_type": "code",
   "execution_count": null,
   "metadata": {
    "collapsed": true
   },
   "outputs": [],
   "source": [
    "def AestheticNet(outputflag='score',weight_decay=0.0005, weights_path=None):\n",
    "    model = Sequential()\n",
    "    model.add(ZeroPadding2D((1,1),input_shape=(3,224,224)))\n",
    "    model.add(Convolution2D(64, 3, 3, activation='relu',init='he_normal',W_regularizer=l2(weight_decay)))\n",
    "    model.add(ZeroPadding2D((1,1)))\n",
    "    model.add(Convolution2D(64, 3, 3, activation='relu',init='he_normal',W_regularizer=l2(weight_decay)))\n",
    "    model.add(MaxPooling2D((2,2), strides=(2,2))) # The receptive filed is 7*7 here\n",
    "\n",
    "    model.add(ZeroPadding2D((1,1)))\n",
    "    model.add(Convolution2D(128, 3, 3, activation='relu',init='he_normal',W_regularizer=l2(weight_decay)))\n",
    "    model.add(ZeroPadding2D((1,1)))\n",
    "    model.add(Convolution2D(128, 3, 3, activation='relu',init='he_normal',W_regularizer=l2(weight_decay)))\n",
    "    model.add(MaxPooling2D((2,2), strides=(2,2)))\n",
    "\n",
    "    model.add(ZeroPadding2D((1,1)))\n",
    "    model.add(Convolution2D(256, 3, 3, activation='relu',init='he_normal',W_regularizer=l2(weight_decay)))\n",
    "    model.add(ZeroPadding2D((1,1)))\n",
    "    model.add(Convolution2D(256, 3, 3, activation='relu',init='he_normal',W_regularizer=l2(weight_decay)))\n",
    "    model.add(ZeroPadding2D((1,1)))\n",
    "    model.add(Convolution2D(256, 3, 3, activation='relu',init='he_normal',W_regularizer=l2(weight_decay)))\n",
    "    model.add(MaxPooling2D((2,2), strides=(2,2)))\n",
    "\n",
    "    model.add(ZeroPadding2D((1,1)))\n",
    "    model.add(Convolution2D(512, 3, 3, activation='relu',init='he_normal',W_regularizer=l2(weight_decay)))\n",
    "    model.add(ZeroPadding2D((1,1)))\n",
    "    model.add(Convolution2D(512, 3, 3, activation='relu',init='he_normal',W_regularizer=l2(weight_decay)))\n",
    "    model.add(ZeroPadding2D((1,1)))\n",
    "    model.add(Convolution2D(512, 3, 3, activation='relu',init='he_normal',W_regularizer=l2(weight_decay)))\n",
    "    model.add(MaxPooling2D((2,2), strides=(2,2)))\n",
    "\n",
    "    model.add(ZeroPadding2D((1,1)))\n",
    "    model.add(Convolution2D(512, 3, 3, activation='relu',init='he_normal',W_regularizer=l2(weight_decay)))\n",
    "    model.add(ZeroPadding2D((1,1)))\n",
    "    model.add(Convolution2D(512, 3, 3, activation='relu',init='he_normal',W_regularizer=l2(weight_decay)))\n",
    "    model.add(ZeroPadding2D((1,1)))\n",
    "    model.add(Convolution2D(512, 3, 3, activation='relu',init='he_normal',W_regularizer=l2(weight_decay)))\n",
    "    model.add(MaxPooling2D((2,2), strides=(2,2)))\n",
    "\n",
    "    model.add(Flatten())\n",
    "    model.add(Dense(4096, activation='relu',init='he_normal',W_regularizer=l2(weight_decay)))\n",
    "\n",
    "    model.add(Dropout(0.5))\n",
    "    model.add(Dense(4096, activation='relu',init='he_normal',W_regularizer=l2(weight_decay)))\n",
    "\n",
    "    model.add(Dropout(0.5))\n",
    "    if outputflag =='score' :\n",
    "        model.add(Dense(1,init='he_normal',W_regularizer=l2(weight_decay)))\n",
    "    else:\n",
    "        model.add(Dense(10, activation='softmax',init='he_normal',W_regularizer=l2(weight_decay)))    \n",
    "\n",
    "    if weights_path:\n",
    "        model.load_weights(weights_path)\n",
    "\n",
    "    return model"
   ]
  },
  {
   "cell_type": "code",
   "execution_count": 4,
   "metadata": {
    "collapsed": true
   },
   "outputs": [],
   "source": [
    "## load the network for predicting aesthetics\n",
    "outputflag = 'score'\n",
    "path_weights = '/data/bjin/MyAesthetics/model_weights/'\n",
    "weights_file = 'AVA_AestheticNet_' + outputflag + '_ICIP.h5'\n",
    "model = AestheticNet(outputflag=outputflag,weight_decay=0.0005, weights_path=path_weights + weights_file)\n"
   ]
  },
  {
   "cell_type": "code",
   "execution_count": 37,
   "metadata": {
    "collapsed": false
   },
   "outputs": [
    {
     "name": "stderr",
     "output_type": "stream",
     "text": [
      "\r",
      "  0%|          | 0/331 [00:00<?, ?it/s]"
     ]
    },
    {
     "name": "stdout",
     "output_type": "stream",
     "text": [
      "Taking the aesthetically pleasing crop\n"
     ]
    },
    {
     "name": "stderr",
     "output_type": "stream",
     "text": [
      "100%|██████████| 331/331 [1:08:33<00:00, 13.69s/it]\n"
     ]
    }
   ],
   "source": [
    "#### Takeing a square crop out of the image\n",
    "print('Taking the aesthetically pleasing crop')\n",
    "n_crops = 500;\n",
    "thre_dim = 0.5\n",
    "\n",
    "foldername = '05-Forrest-jungle_view'\n",
    "path_dataset = '/data/bjin/MyAesthetics/Hotel_images/images/'\n",
    "path_results = '/data/bjin/MyAesthetics/Hotel_images/crops/'\n",
    "\n",
    "files = [x for x in os.listdir(path_dataset+foldername + '/') if os.path.isfile(path_dataset+foldername + '/'+x)]\n",
    "# files = sorted(files)\n",
    "n_files = len(files)\n",
    "\n",
    "try:\n",
    "    os.mkdir(path_results+ foldername + '/')\n",
    "except:\n",
    "    pass\n",
    "\n",
    "predict_filename = path_dataset + foldername + '_Scores.txt'\n",
    "f = open(predict_filename,'w+')\n",
    "\n",
    "for i in tqdm(range(n_files)):\n",
    "    filename = files[i]\n",
    "    if filename[0] is '.':\n",
    "        continue\n",
    "    \n",
    "    if os.path.isfile(path_results+foldername + '/'+filename):\n",
    "        continue\n",
    "    \n",
    "    image = cv2.imread(path_dataset+foldername + '/'+filename)\n",
    "    if image is None:\n",
    "        continue\n",
    "    image = image.astype(np.float32, copy=False)\n",
    "    imgn = np.copy(image)\n",
    "    image_sz = image.shape\n",
    "\n",
    "    ## compute the score for the original image\n",
    "    imgn = cv2.resize(imgn,(224,224))\n",
    "    imgn = np.transpose(imgn,[2,0,1])\n",
    "    imgn = np.expand_dims(imgn,axis=0)\n",
    "    score_ori = model.predict(imgn)\n",
    "    score_best = 0\n",
    "    image_patch_best = None\n",
    "    ## loop over all crops, find the one that has higher score than the original image\n",
    "    for j in range(n_crops):\n",
    "        temp = np.min([image_sz[0],image_sz[1]])\n",
    "        height_crop = random.randint(int(thre_dim*temp),int(temp))\n",
    "        width_crop = height_crop\n",
    "\n",
    "        start_r = random.randint(0,image_sz[0]-height_crop)\n",
    "        start_c = random.randint(0,image_sz[1]-width_crop)\n",
    "        end_r = start_r + height_crop\n",
    "        end_c = start_c + width_crop\n",
    "\n",
    "        image_patch = image[start_r:end_r,start_c:end_c,:]\n",
    "        imgn = cv2.resize(image_patch,(224,224))\n",
    "        imgn = np.transpose(imgn,[2,0,1])\n",
    "        imgn = np.expand_dims(imgn,axis=0)\n",
    "        score_crop = model.predict(imgn)\n",
    "\n",
    "        if score_crop > score_best:\n",
    "            score_best = score_crop\n",
    "            image_patch_best = image_patch\n",
    "\n",
    "    # save the best crop\n",
    "    cv2.imwrite(path_results+foldername + '/'+filename, image_patch_best)\n",
    "    \n",
    "    # write down the scores\n",
    "    line = filename + ' ori: ' + str(score_ori) + ' crop: ' + str(score_best)\n",
    "    print >>f, line\n",
    "f.close()\n"
   ]
  },
  {
   "cell_type": "code",
   "execution_count": 51,
   "metadata": {
    "collapsed": false
   },
   "outputs": [
    {
     "name": "stderr",
     "output_type": "stream",
     "text": [
      "\r",
      "  0%|          | 0/201 [00:00<?, ?it/s]"
     ]
    },
    {
     "name": "stdout",
     "output_type": "stream",
     "text": [
      "Taking the aesthetically pleasing crop\n"
     ]
    },
    {
     "name": "stderr",
     "output_type": "stream",
     "text": [
      "100%|██████████| 201/201 [17:05<00:00,  5.20s/it]\n"
     ]
    }
   ],
   "source": [
    "#### Takeing a square crop out of the image\n",
    "print('Taking the aesthetically pleasing crop')\n",
    "n_crops = 150;\n",
    "thre_dim = 0.5\n",
    "\n",
    "foldername = 'Bathroom'\n",
    "path_dataset = '/data/bjin/MyAesthetics/Hotel_images/images/'\n",
    "path_results = '/data/bjin/MyAesthetics/Hotel_images/crops/'\n",
    "\n",
    "files = [x for x in os.listdir(path_dataset+foldername + '/') if os.path.isfile(path_dataset+foldername + '/'+x)]\n",
    "# files = sorted(files)\n",
    "n_files = len(files)\n",
    "\n",
    "try:\n",
    "    os.mkdir(path_results+ foldername + '/')\n",
    "except:\n",
    "    pass\n",
    "\n",
    "predict_filename = path_dataset + foldername + '_Scores.txt'\n",
    "f = open(predict_filename,'w+')\n",
    "\n",
    "for i in tqdm(range(n_files)):\n",
    "    filename = files[i]\n",
    "    if filename[0] is '.':\n",
    "        continue\n",
    "    \n",
    "    if os.path.isfile(path_results+foldername + '/'+filename):\n",
    "        continue\n",
    "    \n",
    "    image = cv2.imread(path_dataset+foldername + '/'+filename)\n",
    "    if image is None:\n",
    "        continue\n",
    "    image = image.astype(np.float32, copy=False)\n",
    "    imgn = np.copy(image)\n",
    "    image_sz = image.shape\n",
    "\n",
    "    ## compute the score for the original image\n",
    "    imgn = cv2.resize(imgn,(224,224))\n",
    "    imgn = np.transpose(imgn,[2,0,1])\n",
    "    imgn = np.expand_dims(imgn,axis=0)\n",
    "    score_ori = model.predict(imgn)\n",
    "    \n",
    "    ## find the crop with best aesthetics score\n",
    "    score_best = 0\n",
    "    coordinate_best = None\n",
    "    width_best = None\n",
    "    images_batch = np.zeros((n_crops,3,224,224))\n",
    "    coordinates_batch = np.zeros((n_crops,2))\n",
    "\n",
    "    ratio = float(224) / np.min(image_sz[0:2])\n",
    "    imgn = cv2.resize(image,(0,0),fx=ratio,fy=ratio)\n",
    "    image_szn = imgn.shape\n",
    "    imgn = np.transpose(imgn,[2,0,1])\n",
    "    for cropcounter in range(n_crops):\n",
    "        start_r = random.randint(0,image_szn[0]-224)\n",
    "        start_c = random.randint(0,image_szn[1]-224)\n",
    "        end_r = start_r + 224\n",
    "        end_c = start_c + 224\n",
    "\n",
    "        image_crop = imgn[:,start_r:end_r,start_c:end_c]\n",
    "        images_batch[cropcounter] = image_crop\n",
    "        coordinates_batch[cropcounter] = [start_r, start_c]\n",
    "\n",
    "    scores_batch = model.predict_on_batch(images_batch)[:]\n",
    "    score_batch_bestidx = np.argmax(scores_batch[:])\n",
    "    if scores_batch[score_batch_bestidx] > score_best:\n",
    "        score_best = scores_batch[score_batch_bestidx]\n",
    "        coordinate_best = (coordinates_batch[score_batch_bestidx] / ratio).astype(np.uint8)\n",
    "        width_best = int(224/ratio)\n",
    "\n",
    "    ratio = float(336) / np.min(image_sz[0:2])\n",
    "    imgn = cv2.resize(image,(0,0),fx=ratio,fy=ratio)\n",
    "    image_szn = imgn.shape\n",
    "    imgn = np.transpose(imgn,[2,0,1])\n",
    "    for cropcounter in range(n_crops):\n",
    "        start_r = random.randint(0,image_szn[0]-224)\n",
    "        start_c = random.randint(0,image_szn[1]-224)\n",
    "        end_r = start_r + 224\n",
    "        end_c = start_c + 224\n",
    "\n",
    "        image_crop = imgn[:,start_r:end_r,start_c:end_c]\n",
    "        images_batch[cropcounter] = image_crop\n",
    "        coordinates_batch[cropcounter] = [start_r, start_c]\n",
    "\n",
    "    scores_batch = model.predict_on_batch(images_batch)[:]\n",
    "    score_batch_bestidx = np.argmax(scores_batch[:])\n",
    "    if scores_batch[score_batch_bestidx] > score_best:\n",
    "        score_best = scores_batch[score_batch_bestidx]\n",
    "        coordinate_best = (coordinates_batch[score_batch_bestidx] / ratio).astype(np.uint8)\n",
    "        width_best = int(224/ratio)\n",
    "\n",
    "    ratio = float(448) / np.min(image_sz[0:2])\n",
    "    imgn = cv2.resize(image,(0,0),fx=ratio,fy=ratio)\n",
    "    image_szn = imgn.shape\n",
    "    imgn = np.transpose(imgn,[2,0,1])\n",
    "    for cropcounter in range(n_crops):\n",
    "        start_r = random.randint(0,image_szn[0]-224)\n",
    "        start_c = random.randint(0,image_szn[1]-224)\n",
    "        end_r = start_r + 224\n",
    "        end_c = start_c + 224\n",
    "\n",
    "        image_crop = imgn[:,start_r:end_r,start_c:end_c]\n",
    "        images_batch[cropcounter] = image_crop\n",
    "    scores_batch = model.predict_on_batch(images_batch)[:]\n",
    "    score_batch_bestidx = np.argmax(scores_batch[:])\n",
    "    if scores_batch[score_batch_bestidx] > score_best:\n",
    "        score_best = scores_batch[score_batch_bestidx]\n",
    "        coordinate_best = (coordinates_batch[score_batch_bestidx] / ratio).astype(np.uint8)\n",
    "        width_best = int(224/ratio)\n",
    "\n",
    "    crop_best = image[coordinate_best[0]:coordinate_best[0]+width_best,coordinate_best[1]:coordinate_best[1]+width_best,:]\n",
    "    # save the best crop\n",
    "    cv2.imwrite(path_results+foldername + '/'+filename, crop_best)\n",
    "    \n",
    "    # write down the scores\n",
    "    line = filename + ' ori: ' + str(score_ori) + ' crop: ' + str(score_best)\n",
    "    print >>f, line\n",
    "f.close()\n"
   ]
  },
  {
   "cell_type": "code",
   "execution_count": 78,
   "metadata": {
    "collapsed": false
   },
   "outputs": [
    {
     "name": "stderr",
     "output_type": "stream",
     "text": [
      "\r",
      "  0%|          | 0/201 [00:00<?, ?it/s]"
     ]
    },
    {
     "name": "stdout",
     "output_type": "stream",
     "text": [
      "Taking the aesthetically pleasing crop\n"
     ]
    },
    {
     "name": "stderr",
     "output_type": "stream",
     "text": [
      "/home/bjin/anaconda2/envs/keras1/lib/python2.7/site-packages/ipykernel/__main__.py:61: DeprecationWarning: using a non-integer number instead of an integer will result in an error in the future\n",
      "100%|██████████| 201/201 [09:31<00:00,  2.95s/it]\n"
     ]
    }
   ],
   "source": [
    "#### Takeing a square crop out of the image\n",
    "print('Taking the aesthetically pleasing crop')\n",
    "n_crops = 250;\n",
    "thre_dim = 0.5\n",
    "\n",
    "foldername = 'Bathroom'\n",
    "path_dataset = '/data/bjin/MyAesthetics/Hotel_images/images/'\n",
    "path_results = '/data/bjin/MyAesthetics/Hotel_images/crops/'\n",
    "\n",
    "files = [x for x in os.listdir(path_dataset+foldername + '/') if os.path.isfile(path_dataset+foldername + '/'+x)]\n",
    "# files = sorted(files)\n",
    "n_files = len(files)\n",
    "\n",
    "try:\n",
    "    os.mkdir(path_results+ foldername + '/')\n",
    "except:\n",
    "    pass\n",
    "\n",
    "for i in tqdm(range(n_files)):\n",
    "    filename = files[i]\n",
    "    if filename[0] is '.':\n",
    "        continue\n",
    "    \n",
    "    if os.path.isfile(path_results+foldername + '/'+filename):\n",
    "        continue\n",
    "    \n",
    "    image = cv2.imread(path_dataset+foldername + '/'+filename)\n",
    "    if image is None:\n",
    "        continue\n",
    "    image_sz = image.shape\n",
    "\n",
    "    ## find the crop with best aesthetics score\n",
    "    score_best = 0\n",
    "    coordinate_best = None\n",
    "    images_batch = np.zeros((n_crops,3,224,224))\n",
    "    coordinates_batch = np.zeros((n_crops,4))\n",
    "#     if image_sz[0] <= 460 or image_sz[0] <= 840:\n",
    "#         continue\n",
    "    \n",
    "    for cropcounter in range(n_crops):\n",
    "        r_temp = random.randint(int(image_sz[0]/2),image_sz[0])\n",
    "#         c_temp = random.randint(int(image_sz[1]/2),image_sz[1])\n",
    "        c_temp = int(r_temp / 9 * 16)\n",
    "        if image_sz[1]-c_temp < 1:\n",
    "            continue\n",
    "        start_r = random.randint(0,image_sz[0]-r_temp)\n",
    "        start_c = random.randint(0,image_sz[1]-c_temp)\n",
    "        end_r = start_r + r_temp\n",
    "        end_c = start_c + c_temp\n",
    "        image_crop = image[start_r:end_r,start_c:end_c,:]\n",
    "        image_crop = cv2.resize(image_crop,(224,224))\n",
    "        image_crop = np.transpose(image_crop,[2,0,1])\n",
    "        \n",
    "        images_batch[cropcounter] = image_crop\n",
    "        coordinates_batch[cropcounter] = [start_r, start_c,end_r,end_c]\n",
    "    \n",
    "    scores_batch = model.predict_on_batch(images_batch)[:]\n",
    "    score_batch_bestidx = np.argmax(scores_batch)\n",
    "    [start_r, start_c,end_r,end_c] = coordinates_batch[score_batch_bestidx]\n",
    "    \n",
    "    crop_best = image[start_r:end_r,start_c:end_c,:]\n",
    "    \n",
    "    # save the best crop\n",
    "    cv2.imwrite(path_results+foldername + '/'+filename, crop_best)\n",
    "    "
   ]
  },
  {
   "cell_type": "code",
   "execution_count": 73,
   "metadata": {
    "collapsed": false
   },
   "outputs": [
    {
     "name": "stdout",
     "output_type": "stream",
     "text": [
      "(1024, 1280, 3) Beach-Resort-HD-Picture.jpeg\n"
     ]
    }
   ],
   "source": [
    "print image_sz, filename"
   ]
  },
  {
   "cell_type": "code",
   "execution_count": null,
   "metadata": {
    "collapsed": false
   },
   "outputs": [],
   "source": [
    "path_images = '/data/bjin/MyAesthetics/Hotel_images/deliver/v1/crops/'\n",
    "\n",
    "files = [x for x in os.listdir(path_images) if os.path.isfile(path_images+x)]\n",
    "# files = sorted(files)\n",
    "n_files = len(files)\n",
    "\n",
    "for i in range(n_files):\n",
    "    filename = files[i]\n",
    "    if filename[0] is '.':\n",
    "        continue\n",
    "    \n",
    "    image = cv2.imread(path_images+filename)\n",
    "    image = image.astype(np.float32, copy=False)\n",
    "    imgn = np.copy(image)\n",
    "    image_sz = image.shape\n",
    "\n",
    "    ## compute the score for the original image\n",
    "    imgn = cv2.resize(imgn,(224,224))\n",
    "    imgn = np.transpose(imgn,[2,0,1])\n",
    "    imgn = np.expand_dims(imgn,axis=0)\n",
    "    score_ori = model.predict(imgn)\n",
    "    print filename, score_ori\n"
   ]
  },
  {
   "cell_type": "code",
   "execution_count": null,
   "metadata": {
    "collapsed": false
   },
   "outputs": [],
   "source": [
    "## load the image \n",
    "path_AVA = '/data/bjin/AVA/'\n",
    "metadata = loadmat(path_AVA + 'AVA_metadata.mat')\n",
    "files = metadata['img_names'][0,:]\n",
    "GTscores = metadata['scores']\n",
    "n_files = len(files)\n",
    "print n_files\n",
    "idx = np.random.permutation(n_files)\n",
    "files = files[idx]\n",
    "GTscores = GTscores[:,idx]\n",
    "\n",
    "path_results = '/home/bjin/SampleImages/'\n",
    "\n",
    "files = metadata['img_names'][0,:]\n",
    "GTscores = metadata['scores']\n",
    "mystd = np.std(GTscores[1:,:],axis=0)\n",
    "idx = np.argsort(mystd)\n",
    "files = files[idx]\n",
    "GTscores = GTscores[:,idx]\n",
    "\n",
    "for filename, GTscore in zip(files,GTscores.transpose([1,0])):\n",
    "#     if GTscore[0] > 7 or GTscore[0] < 5:\n",
    "#         continue\n",
    "    \n",
    "    img = cv2.imread(path_AVA + 'img/' + str(filename[0]))\n",
    "    imgn = np.copy(img)\n",
    "    imgn = cv2.resize(imgn,(224,224))\n",
    "    imgn = np.transpose(imgn,[2,0,1])\n",
    "    imgn = np.expand_dims(imgn,axis=0)\n",
    "    score = model.predict(imgn)\n",
    "    \n",
    "    fig = plt.figure(figsize=(20, 4))\n",
    "    ax1 = fig.add_subplot(121)\n",
    "    img=cv2.cvtColor(img, cv2.COLOR_BGR2RGB)\n",
    "    plt.imshow(img)\n",
    "    ax1.set_title('ori')\n",
    "    ax1.axis('off')\n",
    "    \n",
    "    ax2 = fig.add_subplot(122)\n",
    "    plt.bar(range(10),GTscore[1:]/np.sum(GTscore[1:]),width=0.9,align='center')\n",
    "    plt.xticks(range(1,11),('1', '2', '3', '4', '5', '6','7','8','9','10'))\n",
    "    plt.xlim(.5, 10.5)\n",
    "    ax2.set_title('hist')\n",
    "    plt.show()\n",
    "    print score, GTscore\n",
    "    \n",
    "    flag = raw_input('press \"s\" to save: ')\n",
    "    if flag == 's':\n",
    "        extent = ax1.get_window_extent().transformed(fig.dpi_scale_trans.inverted())\n",
    "        fig.savefig(path_results + str(filename[0]), bbox_inches=extent)\n",
    "\n",
    "        extent = ax2.get_window_extent().transformed(fig.dpi_scale_trans.inverted())\n",
    "        fig.savefig(path_results + 'hist_' + str(filename[0]), bbox_inches=extent.expanded(1.1, 1.2))\n",
    "    \n",
    "    plt.clf()\n",
    "    \n"
   ]
  },
  {
   "cell_type": "code",
   "execution_count": null,
   "metadata": {
    "collapsed": true
   },
   "outputs": [],
   "source": []
  }
 ],
 "metadata": {
  "kernelspec": {
   "display_name": "Python 2",
   "language": "python",
   "name": "python2"
  },
  "language_info": {
   "codemirror_mode": {
    "name": "ipython",
    "version": 2
   },
   "file_extension": ".py",
   "mimetype": "text/x-python",
   "name": "python",
   "nbconvert_exporter": "python",
   "pygments_lexer": "ipython2",
   "version": "2.7.12"
  }
 },
 "nbformat": 4,
 "nbformat_minor": 0
}
