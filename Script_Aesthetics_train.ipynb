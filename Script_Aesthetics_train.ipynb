{
 "cells": [
  {
   "cell_type": "code",
   "execution_count": null,
   "metadata": {
    "collapsed": false
   },
   "outputs": [],
   "source": [
    "from __future__ import division\n",
    "import sys\n",
    "sys.path.insert(0, '../../MyPackages/')\n",
    "\n",
    "%matplotlib inline\n",
    "import matplotlib\n",
    "import matplotlib.pyplot as plt\n",
    "import numpy as np\n",
    "import cv2, os, random, time\n",
    "from tqdm import tqdm\n",
    "\n",
    "## set global parameters: backend and image_dim_ordering for keras, and the gpu configuration\n",
    "import os\n",
    "os.environ['KERAS_BACKEND'] = 'tensorflow' # or 'tensorflow'\n",
    "os.environ['CUDA_VISIBLE_DEVICES'] = '0'\n",
    "\n",
    "from keras import backend as K\n",
    "import tensorflow as tf\n",
    "\n",
    "K.set_image_dim_ordering('tf')\n",
    "## for tensorflow sesstion\n",
    "config = tf.ConfigProto()\n",
    "config.gpu_options.allow_growth=True\n",
    "config.allow_soft_placement = True\n",
    "config.log_device_placement = False\n",
    "sess = tf.Session(config=config)\n",
    "K.set_session(sess)\n",
    "\n",
    "print K.image_dim_ordering(), K.backend()\n",
    "\n",
    "## import keras layers\n",
    "from keras.applications.resnet50 import ResNet50\n",
    "from keras.applications.xception import Xception, preprocess_input\n",
    "from keras.preprocessing import image\n",
    "from keras.models import Model\n",
    "from keras.layers import Dense, Flatten, Input, GlobalAveragePooling2D\n",
    "from keras.utils.visualize_util import plot\n",
    "from keras.datasets import mnist\n",
    "from keras.optimizers import Adam\n",
    "from keras.utils import np_utils\n",
    "from keras.callbacks import ModelCheckpoint, ReduceLROnPlateau, TensorBoard\n",
    "\n",
    "from inception_v4 import create_inception_v4\n",
    "from Package_dataset import Load_AVAdataset\n",
    "from Package_network import loop_batch"
   ]
  },
  {
   "cell_type": "markdown",
   "metadata": {},
   "source": [
    "#### load the AVA dataset, hdf5 format"
   ]
  },
  {
   "cell_type": "code",
   "execution_count": null,
   "metadata": {
    "collapsed": false
   },
   "outputs": [],
   "source": [
    "h5f_AVA = Load_AVAdataset(target_size=(224,224))\n",
    "images_train = h5f_AVA['images_train']\n",
    "scores_train = h5f_AVA['scores_train']\n",
    "scores_train = scores_train[:,0]\n",
    "sample_weights = h5f_AVA['sample_weights_train'][:]\n",
    "sample_weights[sample_weights>50] = 50\n",
    "\n",
    "images_test_even = h5f_AVA['images_test_even']\n",
    "scores_test_even = h5f_AVA['scores_test_even']\n",
    "scores_test_even = scores_test_even[:,0]\n",
    "images_test_uneven = h5f_AVA['images_test_uneven']\n",
    "scores_test_uneven = h5f_AVA['scores_test_uneven']\n",
    "scores_test_uneven = scores_test_uneven[:,0]\n",
    "\n",
    "print images_train.shape, scores_train.shape, sample_weights.shape\n",
    "print images_test_even.shape, scores_test_even.shape\n",
    "print images_test_uneven.shape, scores_test_uneven.shape\n"
   ]
  },
  {
   "cell_type": "markdown",
   "metadata": {},
   "source": [
    "#### Pre-process functions"
   ]
  },
  {
   "cell_type": "code",
   "execution_count": null,
   "metadata": {
    "collapsed": true
   },
   "outputs": [],
   "source": [
    "def preprocess_input(x, dim_ordering='default'): # pre-process for Resnet and VGG\n",
    "    \"\"\"Preprocesses a tensor encoding a batch of images.\n",
    "    # Arguments\n",
    "        x: input Numpy tensor, 4D.\n",
    "        dim_ordering: data format of the image tensor.\n",
    "    # Returns\n",
    "        Preprocessed tensor.\n",
    "    \"\"\"\n",
    "    if dim_ordering == 'default':\n",
    "        dim_ordering = K.image_dim_ordering()\n",
    "    assert dim_ordering in {'tf', 'th'}\n",
    "\n",
    "    x = x.astype(np.float32,copy=False)\n",
    "    if dim_ordering == 'th':\n",
    "        # 'RGB'->'BGR'\n",
    "#         x = x[:, ::-1, :, :]\n",
    "        # Zero-center by mean pixel\n",
    "        x[:, 0, :, :] -= 103.939 # blue\n",
    "        x[:, 1, :, :] -= 116.779 # green\n",
    "        x[:, 2, :, :] -= 123.68  # red\n",
    "    else:\n",
    "        x = np.transpose(x,(0,2,3,1))\n",
    "        # 'RGB'->'BGR'\n",
    "#         x = x[:, :, :, ::-1]\n",
    "        # Zero-center by mean pixel\n",
    "        x[:, :, :, 0] -= 103.939 # blue\n",
    "        x[:, :, :, 1] -= 116.779 # green\n",
    "        x[:, :, :, 2] -= 123.68  # red\n",
    "    return x"
   ]
  },
  {
   "cell_type": "code",
   "execution_count": null,
   "metadata": {
    "collapsed": true
   },
   "outputs": [],
   "source": [
    "def preprocess_input(x,dim_ordering='default'): # pre-process for Xception and Inceptioin\n",
    "    if dim_ordering == 'default':\n",
    "        dim_ordering = K.image_dim_ordering()\n",
    "    assert dim_ordering in {'tf', 'th'}\n",
    "    \n",
    "    x = x.astype(np.float32,copy=False)\n",
    "    if dim_ordering == 'tf':\n",
    "        x = np.transpose(x,(0,2,3,1))\n",
    "\n",
    "    x /= 255.\n",
    "    x -= 0.5\n",
    "    x *= 2.\n",
    "    return x"
   ]
  },
  {
   "cell_type": "markdown",
   "metadata": {},
   "source": [
    "#### Define and build the network"
   ]
  },
  {
   "cell_type": "code",
   "execution_count": null,
   "metadata": {
    "collapsed": false
   },
   "outputs": [],
   "source": [
    "with K.tf.device('/:gpu0'):\n",
    "    input_tensor = Input(shape=(224, 224, 3))\n",
    "    base_model = Xception(input_tensor=input_tensor, include_top=False, weights='imagenet')\n",
    "    x = base_model.output\n",
    "    x = GlobalAveragePooling2D(name='avg_pool')(x)\n",
    "    x = Dense(1,init='glorot_uniform',activation='sigmoid')(x) # in the range of 0 to 1\n",
    "    model = Model(input=input_tensor, output=x)\n",
    "#     model.load_weights('/data/bjin/MyAesthetics/model_weights/AVA_Xception_score_sigmoid.hdf5')\n",
    "    myadam = Adam(lr=0.0001)\n",
    "    model.compile(optimizer=myadam, loss='mse')\n"
   ]
  },
  {
   "cell_type": "code",
   "execution_count": null,
   "metadata": {
    "collapsed": false
   },
   "outputs": [],
   "source": [
    "images_test_even = preprocess_input(images_test_even[:])\n",
    "print images_test_even.shape"
   ]
  },
  {
   "cell_type": "code",
   "execution_count": null,
   "metadata": {
    "collapsed": false
   },
   "outputs": [],
   "source": [
    "st_time = time.time()\n",
    "scores_all = model.predict(images_test_even,batch_size=128)\n",
    "print time.time()-st_time\n",
    "print np.mean(np.square(np.squeeze(scores_all)*10 - scores_test_even))\n",
    "print np.corrcoef(np.squeeze(scores_all)*10, scores_test_even)"
   ]
  },
  {
   "cell_type": "markdown",
   "metadata": {
    "collapsed": false
   },
   "source": [
    "#### Train the Xception network for aesthetic scores prediction"
   ]
  },
  {
   "cell_type": "code",
   "execution_count": null,
   "metadata": {
    "collapsed": true
   },
   "outputs": [],
   "source": [
    "## define Xception network\n",
    "with K.tf.device('/:gpu0'):\n",
    "    input_tensor = Input(shape=(224, 224, 3))\n",
    "    base_model = Xception(input_tensor=input_tensor, include_top=False, weights='imagenet')\n",
    "    x = base_model.output\n",
    "    x = GlobalAveragePooling2D(name='avg_pool')(x)\n",
    "    x = Dense(1,init='glorot_uniform',activation='sigmoid')(x) # in the range of 0 to 1\n",
    "    model = Model(input=input_tensor, output=x)\n",
    "#     model.load_weights('/data/bjin/MyAesthetics/model_weights/AVA_Xception_score_sigmoid.hdf5')\n",
    "    myadam = Adam(lr=0.0001)\n",
    "    model.compile(optimizer=myadam, loss='mse')"
   ]
  },
  {
   "cell_type": "code",
   "execution_count": null,
   "metadata": {
    "collapsed": false
   },
   "outputs": [],
   "source": [
    "ff = open('/data/bjin/MyAesthetics/logs/AVA_Xception_score_sigmoid.txt','w+')\n",
    "\n",
    "# first finetune the top layer\n",
    "print >>ff, 'finetune the top layer'\n",
    "for l in model.layers[:-1]:\n",
    "    l.trainable = False\n",
    "model.compile(optimizer=myadam, loss='mse')\n",
    "\n",
    "checkpointer = ModelCheckpoint(filepath=\"/data/bjin/MyAesthetics/model_weights/AVA_Xception_score_sigmoid.hdf5\", \n",
    "                                verbose=0, save_best_only=True, save_weights_only=False, mode='auto', period=1)\n",
    "reduce_lr = ReduceLROnPlateau(monitor='val_loss', factor=0.2,patience=3, min_lr=0.000001)\n",
    "\n",
    "history = model.fit_generator(loop_batch(images_train,scores_train/10,sample_weights,batch_size=128,pre_f=preprocess_input,shuffle=True),\n",
    "        samples_per_epoch=len(scores_train), nb_epoch=5, callbacks=[checkpointer, reduce_lr], verbose=1,\n",
    "        validation_data=loop_batch(images_test_even,scores_test_even/10,batch_size=128,pre_f=preprocess_input),\n",
    "        nb_val_samples=len(scores_test_even), max_q_size=5, nb_worker=1, pickle_safe=False, initial_epoch=0)\n",
    "\n",
    "print >>ff, history.history\n",
    "\n",
    "# then finetune all the layers\n",
    "print >>ff, 'finetune all the layers'\n",
    "for l in model.layers[:-1]:\n",
    "    l.trainable = True\n",
    "model.load_weights('/data/bjin/MyAesthetics/model_weights/AVA_Xception_score_sigmoid.hdf5')\n",
    "myadam = Adam(lr=0.00005)\n",
    "model.compile(optimizer=myadam, loss='mse')\n",
    "\n",
    "checkpointer = ModelCheckpoint(filepath=\"/data/bjin/MyAesthetics/model_weights/AVA_Xception_score_sigmoid.hdf5\", \n",
    "                                verbose=0, save_best_only=True, save_weights_only=False, mode='auto', period=1)\n",
    "reduce_lr = ReduceLROnPlateau(monitor='val_loss', factor=0.2,patience=3, min_lr=0.000001)\n",
    "\n",
    "history = model.fit_generator(loop_batch(images_train,scores_train/10,sample_weights,batch_size=32,pre_f=preprocess_input,shuffle=True),\n",
    "        samples_per_epoch=len(scores_train), nb_epoch=15, callbacks=[checkpointer, reduce_lr], verbose=1,\n",
    "        validation_data=loop_batch(images_test_even,scores_test_even/10,batch_size=32,pre_f=preprocess_input),\n",
    "        nb_val_samples=len(scores_test_even), max_q_size=5, nb_worker=1, pickle_safe=False, initial_epoch=0)\n",
    "\n",
    "print >>ff, history.history"
   ]
  },
  {
   "cell_type": "markdown",
   "metadata": {
    "collapsed": true
   },
   "source": [
    "#### Train the Resnet network for aesthetic scores prediction"
   ]
  },
  {
   "cell_type": "code",
   "execution_count": null,
   "metadata": {
    "collapsed": true
   },
   "outputs": [],
   "source": [
    "## define Resnet network\n",
    "with K.tf.device('/gpu:0'):\n",
    "    input_tensor = Input(shape=(224, 224, 3))\n",
    "    base_model = ResNet50(input_tensor=input_tensor, include_top=False, weights='imagenet')\n",
    "    x = base_model.output\n",
    "    x = Flatten()(x)\n",
    "    x = Dense(1,init='glorot_uniform',activation='sigmoid')(x) # in the range of 0 to 1\n",
    "    model = Model(input=input_tensor, output=x)\n",
    "    myadam = Adam(lr=0.0001)"
   ]
  },
  {
   "cell_type": "code",
   "execution_count": null,
   "metadata": {
    "collapsed": false
   },
   "outputs": [],
   "source": [
    "ff = open('/data/bjin/MyAesthetics/logs/AVA_Resnet_score_sigmoid.txt','w+')\n",
    "\n",
    "# first finetune the top layer\n",
    "print >>ff, 'finetune the top layer'\n",
    "for l in model.layers[:-1]:\n",
    "    l.trainable = False\n",
    "model.compile(optimizer=myadam, loss='mse')\n",
    "\n",
    "checkpointer = ModelCheckpoint(filepath=\"/data/bjin/MyAesthetics/model_weights/AVA_Resnet50_score_sigmoid.hdf5\", \n",
    "                                verbose=0, save_best_only=True, save_weights_only=False, mode='auto', period=1)\n",
    "reduce_lr = ReduceLROnPlateau(monitor='val_loss', factor=0.2,patience=3, min_lr=0.000001)\n",
    "mytensorboard = TensorBoard(log_dir='/data/bjin/MyAesthetics/logs/Resnet', histogram_freq=5, write_graph=False)\n",
    "\n",
    "history = model.fit_generator(loop_batch(images_train,scores_train/10,sample_weights,batch_size=64,pre_f=preprocess_input),\n",
    "        samples_per_epoch=len(scores_train), nb_epoch=5, callbacks=[checkpointer, reduce_lr, mytensorboard], verbose=1,\n",
    "        validation_data=loop_batch(images_test_even,scores_test_even/10,batch_size=64,pre_f=preprocess_input),\n",
    "        nb_val_samples=len(scores_test_even), max_q_size=5, nb_worker=1, pickle_safe=False, initial_epoch=0)\n",
    "\n",
    "print >>ff, history.history\n",
    "\n",
    "# then finetune all the layers\n",
    "print >>ff, 'finetune all the layers'\n",
    "for l in model.layers[:-1]:\n",
    "    l.trainable = True\n",
    "model.load_weights('/data/bjin/MyAesthetics/model_weights/AVA_Resnet50_score_sigmoid.hdf5')\n",
    "myadam = Adam(lr=0.0001)\n",
    "model.compile(optimizer=myadam, loss='mse')\n",
    "\n",
    "checkpointer = ModelCheckpoint(filepath=\"/data/bjin/MyAesthetics/model_weights/AVA_Resnet50_score_sigmoid.hdf5\", \n",
    "                                verbose=0, save_best_only=True, save_weights_only=False, mode='auto', period=1)\n",
    "reduce_lr = ReduceLROnPlateau(monitor='val_loss', factor=0.2,patience=3, min_lr=0.000001)\n",
    "mytensorboard = TensorBoard(log_dir='/data/bjin/MyAesthetics/logs/Resnet', histogram_freq=5, write_graph=False)\n",
    "\n",
    "history = model.fit_generator(loop_batch(images_train,scores_train/10,sample_weights,batch_size=64,pre_f=preprocess_input),\n",
    "        samples_per_epoch=len(scores_train), nb_epoch=15, callbacks=[checkpointer, reduce_lr, mytensorboard], verbose=1,\n",
    "        validation_data=loop_batch(images_test_even,scores_test_even/10,batch_size=64,pre_f=preprocess_input),\n",
    "        nb_val_samples=len(scores_test_even), max_q_size=5, nb_worker=1, pickle_safe=False, initial_epoch=0)\n",
    "\n",
    "print >>ff, history.history\n"
   ]
  },
  {
   "cell_type": "markdown",
   "metadata": {},
   "source": [
    "#### Backup codes used for generating figures for statistics"
   ]
  },
  {
   "cell_type": "code",
   "execution_count": null,
   "metadata": {
    "collapsed": true
   },
   "outputs": [],
   "source": [
    "## generate the statistics\n",
    "path_AVA = '/data/bjin/AVA/'\n",
    "metadata = loadmat(path_AVA + 'AVA_metadata.mat')\n",
    "files = metadata['img_names'][0,:]\n",
    "GTscores = metadata['scores']\n",
    "n_files = len(files)\n",
    "print n_files\n",
    "idx = np.random.permutation(n_files)\n",
    "files = files[idx]\n",
    "GTscores = GTscores[:,idx]\n",
    "\n",
    "path_results = '/home/bjin/SampleImages/'\n",
    "\n",
    "files = metadata['img_names'][0,:]\n",
    "GTscores = metadata['scores']\n",
    "mystd = np.std(GTscores[1:,:],axis=0)\n",
    "idx = np.argsort(mystd)\n",
    "files = files[idx]\n",
    "GTscores = GTscores[:,idx]\n",
    "\n",
    "for filename, GTscore in zip(files,GTscores.transpose([1,0])):\n",
    "#     if GTscore[0] > 7 or GTscore[0] < 5:\n",
    "#         continue\n",
    "    \n",
    "    img = cv2.imread(path_AVA + 'img/' + str(filename[0]))\n",
    "    imgn = np.copy(img)\n",
    "    imgn = cv2.resize(imgn,(224,224))\n",
    "    imgn = np.transpose(imgn,[2,0,1])\n",
    "    imgn = np.expand_dims(imgn,axis=0)\n",
    "    score = model.predict(imgn)\n",
    "    \n",
    "    fig = plt.figure(figsize=(20, 4))\n",
    "    ax1 = fig.add_subplot(121)\n",
    "    img=cv2.cvtColor(img, cv2.COLOR_BGR2RGB)\n",
    "    plt.imshow(img)\n",
    "    ax1.set_title('ori')\n",
    "    ax1.axis('off')\n",
    "    \n",
    "    ax2 = fig.add_subplot(122)\n",
    "    plt.bar(range(10),GTscore[1:]/np.sum(GTscore[1:]),width=0.9,align='center')\n",
    "    plt.xticks(range(1,11),('1', '2', '3', '4', '5', '6','7','8','9','10'))\n",
    "    plt.xlim(.5, 10.5)\n",
    "    ax2.set_title('hist')\n",
    "    plt.show()\n",
    "    print score, GTscore\n",
    "    \n",
    "    flag = raw_input('press \"s\" to save: ')\n",
    "    if flag == 's':\n",
    "        extent = ax1.get_window_extent().transformed(fig.dpi_scale_trans.inverted())\n",
    "        fig.savefig(path_results + str(filename[0]), bbox_inches=extent)\n",
    "\n",
    "        extent = ax2.get_window_extent().transformed(fig.dpi_scale_trans.inverted())\n",
    "        fig.savefig(path_results + 'hist_' + str(filename[0]), bbox_inches=extent.expanded(1.1, 1.2))\n",
    "    \n",
    "    plt.clf()"
   ]
  },
  {
   "cell_type": "code",
   "execution_count": null,
   "metadata": {
    "collapsed": false
   },
   "outputs": [],
   "source": [
    "plot(model_inceptionv4, to_file='model.png')"
   ]
  }
 ],
 "metadata": {
  "kernelspec": {
   "display_name": "Python 2",
   "language": "python",
   "name": "python2"
  },
  "language_info": {
   "codemirror_mode": {
    "name": "ipython",
    "version": 2
   },
   "file_extension": ".py",
   "mimetype": "text/x-python",
   "name": "python",
   "nbconvert_exporter": "python",
   "pygments_lexer": "ipython2",
   "version": "2.7.12"
  }
 },
 "nbformat": 4,
 "nbformat_minor": 0
}
